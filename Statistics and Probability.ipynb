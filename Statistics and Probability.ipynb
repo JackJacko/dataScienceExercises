{
 "cells": [
  {
   "cell_type": "markdown",
   "metadata": {},
   "source": [
    "# Statistics and Probability\n",
    "## Basic statistics"
   ]
  },
  {
   "cell_type": "markdown",
   "metadata": {},
   "source": [
    "### The *variance* of an array of values is the average square distance of its values from the mean."
   ]
  },
  {
   "cell_type": "code",
   "execution_count": 2,
   "metadata": {},
   "outputs": [],
   "source": [
    "def variance(arr):\n",
    "    from numpy import mean\n",
    "    arr_avg = mean(arr)\n",
    "    variances = (arr-arr_avg)**2\n",
    "    return mean(variances)"
   ]
  },
  {
   "cell_type": "markdown",
   "metadata": {},
   "source": [
    "### The *standard deviation* of an array of values is the square root of its variance. \n",
    "The advantage of the standard deviation is that it shares the same unit of measure of the values from which it is calculated (while the variance squares the unit of measure)."
   ]
  },
  {
   "cell_type": "code",
   "execution_count": 3,
   "metadata": {},
   "outputs": [],
   "source": [
    "def st_dev(arr):\n",
    "    from math import sqrt\n",
    "    from numpy import mean\n",
    "    arr_avg = mean(arr)\n",
    "    variances = (arr-arr_avg)**2\n",
    "    return sqrt(mean(variances))"
   ]
  },
  {
   "cell_type": "markdown",
   "metadata": {},
   "source": [
    "#### In general, a larger standard deviation indicates that the distribution of values is more spread out. \n",
    "It should be noted that as we take a random sample from a population, the st. dev. of the sample will tend to be smaller than that of the population. This is due to the fact that the sample will tend to have a smaller spread than the population itself. To correct for this, we can decrease the denominator within the st. dev. formula, i.e.:"
   ]
  },
  {
   "cell_type": "code",
   "execution_count": 4,
   "metadata": {},
   "outputs": [],
   "source": [
    "def st_dev(arr,ddof=0): # The ddof value corrects for the lower st.dev. of the sample. Ddof == 0 is the population st. dev.\n",
    "    from math import sqrt\n",
    "    from numpy import mean\n",
    "    arr_avg = mean(arr)\n",
    "    variances = (arr-arr_avg)**2\n",
    "    return sqrt(sum(variances)/(len(arr)-ddof)) "
   ]
  },
  {
   "cell_type": "markdown",
   "metadata": {},
   "source": [
    "### The standard deviation can be used to judge whether a value is notably divergent from the average or not. \n",
    "To do so we can describe a value in terms of how many standard deviations away from the average it is. This special distance is called the *z-score*."
   ]
  },
  {
   "cell_type": "code",
   "execution_count": 5,
   "metadata": {},
   "outputs": [],
   "source": [
    "import numpy as np\n",
    "import pandas as pd\n",
    "import matplotlib.pyplot as plt\n",
    "# For this example a dataset of housing sale prices will be used\n",
    "houses = pd.read_table('datasets/AmesHousing_1.txt')\n",
    "maxprice = max(houses[\"SalePrice\"])\n",
    "minprice = min(houses[\"SalePrice\"])"
   ]
  },
  {
   "cell_type": "code",
   "execution_count": 9,
   "metadata": {},
   "outputs": [
    {
     "data": {
      "text/plain": [
       "<matplotlib.legend.Legend at 0x26d81ef8da0>"
      ]
     },
     "execution_count": 9,
     "metadata": {},
     "output_type": "execute_result"
    },
    {
     "data": {
      "image/png": "[encoded data removed]",
      "text/plain": [
       "<Figure size 432x288 with 1 Axes>"
      ]
     },
     "metadata": {},
     "output_type": "display_data"
    }
   ],
   "source": [
    "# Visualize the distribution of the SalePrice variable and check whether $220k is unusual or not.\n",
    "fig, ax = plt.subplots()\n",
    "houses[\"SalePrice\"].plot.kde(ax=ax,xlim=(minprice,maxprice))\n",
    "f2 = ax.axvline(np.mean(houses[\"SalePrice\"]),label = \"Mean\",color=\"k\")\n",
    "f3 = ax.axvline(np.std(houses[\"SalePrice\"])+np.mean(houses[\"SalePrice\"]),label = \"Standard deviation\",color=\"r\")\n",
    "f4 = ax.axvline(220000,color = \"orange\",label=\"$220000\")\n",
    "ax.set_xlabel(\"Sale price ($)\")\n",
    "plt.legend()\n",
    "# $220k is within the standard deviation and is thus not notably divergent from the average."
   ]
  },
  {
   "cell_type": "code",
   "execution_count": 10,
   "metadata": {},
   "outputs": [],
   "source": [
    "# The distance of the value from the average can be divided by the standard deviation: this is called the z-score.\n",
    "# The z-score effectively describes how many standard deviations away from the mean a certain value is\n",
    "def z_score(val,arr,ddof=0):\n",
    "    from numpy import mean, std \n",
    "    a_mean = mean(arr)\n",
    "    a_std = std(arr,ddof=ddof)\n",
    "    return (val-a_mean)/a_std"
   ]
  },
  {
   "cell_type": "markdown",
   "metadata": {},
   "source": [
    "For example, one might use z_scores on the housing dataset to find which neighbourhood has its average sale price closest to a set value, e.g. $200k"
   ]
  },
  {
   "cell_type": "code",
   "execution_count": 11,
   "metadata": {},
   "outputs": [
    {
     "name": "stderr",
     "output_type": "stream",
     "text": [
      "C:\\Users\\jacop\\Anaconda3\\lib\\site-packages\\numpy\\core\\_methods.py:135: RuntimeWarning: Degrees of freedom <= 0 for slice\n",
      "  keepdims=keepdims)\n",
      "C:\\Users\\jacop\\Anaconda3\\lib\\site-packages\\numpy\\core\\_methods.py:127: RuntimeWarning: invalid value encountered in double_scalars\n",
      "  ret = ret.dtype.type(ret / rcount)\n"
     ]
    },
    {
     "data": {
      "text/plain": [
       "'CollgCr'"
      ]
     },
     "execution_count": 11,
     "metadata": {},
     "output_type": "execute_result"
    }
   ],
   "source": [
    "abs_z_score_200k = {}\n",
    "for i in houses[\"Neighborhood\"].unique():\n",
    "    subset = houses.loc[houses[\"Neighborhood\"] == i, \"SalePrice\"] # Select neighbourhood subset\n",
    "    abs_z_score_200k[i] = abs(z_score(200000,subset.tolist(),ddof=1))\n",
    "best_investment_shortform = min(abs_z_score_200k,key=abs_z_score_200k.get) # Get dictionary key corresponding to minimum value\n",
    "best_investment_shortform"
   ]
  },
  {
   "cell_type": "markdown",
   "metadata": {},
   "source": [
    "The neighbourhood for which 200k is the closest to average is CollgCr - that is, College Creek.\n",
    "\n",
    "#### Entire distributions can be converted to z-scores. This makes the comparison between different distributions easier.\n",
    "A distribution rescaled to its z-scores is said to be *standardized*."
   ]
  },
  {
   "cell_type": "code",
   "execution_count": 12,
   "metadata": {},
   "outputs": [],
   "source": [
    "def standardize(arr,ddof=0):\n",
    "    from numpy import mean, std \n",
    "    a_mean = mean(arr)\n",
    "    a_std = std(arr,ddof=ddof)\n",
    "    return (arr-a_mean)/a_std"
   ]
  },
  {
   "cell_type": "markdown",
   "metadata": {},
   "source": [
    "Standardized distributions can also be easily rescaled. e.g. to improve their readability:"
   ]
  },
  {
   "cell_type": "code",
   "execution_count": 13,
   "metadata": {},
   "outputs": [],
   "source": [
    "def z_rescale(arr,mu,sigma):\n",
    "    return arr*sigma + mu\n",
    "# Where mu and sigma are respectively the mean and the standard deviation of the new distribution."
   ]
  },
  {
   "cell_type": "markdown",
   "metadata": {},
   "source": [
    "## Probability distributions\n",
    "### Binomial distribution"
   ]
  },
  {
   "cell_type": "markdown",
   "metadata": {},
   "source": [
    "The number of combinations in which an outcome can occur k times in a set of N events can be calculated with the formula: N!/(k!(N-k)!), where ! indicates the *factorial*."
   ]
  },
  {
   "cell_type": "code",
   "execution_count": 14,
   "metadata": {},
   "outputs": [],
   "source": [
    "def combinations(k,N):\n",
    "    from math import factorial\n",
    "    return factorial(N)/(factorial(k)*factorial(N-k))"
   ]
  },
  {
   "cell_type": "markdown",
   "metadata": {},
   "source": [
    "If p is the probability of the individual outcome k, we can also find the probability of each combination using the following formula:"
   ]
  },
  {
   "cell_type": "code",
   "execution_count": 15,
   "metadata": {},
   "outputs": [],
   "source": [
    "def combo_prob(p,k,N):\n",
    "    # p is the probability of the desired outcome.\n",
    "    # k is the number of desired occurrences. \n",
    "    # N is the number of events.\n",
    "    return p**k*(1-p)**(N-k)"
   ]
  },
  {
   "cell_type": "markdown",
   "metadata": {},
   "source": [
    "To provide an example, the following steps use a dataset about bikesharing to calculate how likely it is for more than 5000 bikes to be used for each given day:"
   ]
  },
  {
   "cell_type": "code",
   "execution_count": 16,
   "metadata": {},
   "outputs": [],
   "source": [
    "import pandas as pd\n",
    "import numpy as np\n",
    "bikes = pd.read_csv(\"datasets/bike_rental_day.csv\")\n",
    "total_days = bikes.shape[0] # The total amount of days for which we have data\n",
    "over_5000 = bikes[bikes[\"cnt\"]>5000].shape[0] # The total amount of days that had more than 5000 bikes being used\n",
    "p = over_5000/total_days # Average probability for any given day to have more than 5000 bikes being used"
   ]
  },
  {
   "cell_type": "code",
   "execution_count": 17,
   "metadata": {},
   "outputs": [],
   "source": [
    "# Now the likelihood for a certain number of days a month to have more than 5000 bikers can be calculated\n",
    "N = 30\n",
    "# Each item in this list represents one k, starting from 0 and going up to and including 30.\n",
    "outcome_counts = np.linspace(0,N,N+1)\n",
    "outcome_probs = []\n",
    "for i in outcome_counts:\n",
    "    outcome_probs.append(combo_prob(p,i,N)*combinations(i,N))"
   ]
  },
  {
   "cell_type": "code",
   "execution_count": 18,
   "metadata": {},
   "outputs": [
    {
     "data": {
      "image/png": "[encoded data removed]",
      "text/plain": [
       "<Figure size 432x288 with 1 Axes>"
      ]
     },
     "metadata": {},
     "output_type": "display_data"
    }
   ],
   "source": [
    "# Visualise the results\n",
    "import matplotlib.pyplot as plt\n",
    "%matplotlib inline\n",
    "plt.bar(outcome_counts, outcome_probs)\n",
    "plt.title(\"Probability of days/month with > 5000 bikers\")\n",
    "plt.xlabel(\"Days\")\n",
    "plt.ylabel(\"Probability\")\n",
    "plt.show()"
   ]
  },
  {
   "cell_type": "markdown",
   "metadata": {},
   "source": [
    "### Results:\n",
    "- The most likely number of days is between 10 and 13."
   ]
  },
  {
   "cell_type": "markdown",
   "metadata": {},
   "source": [
    "The same results can be replicated by using scipy's binomial distribution method directly."
   ]
  },
  {
   "cell_type": "code",
   "execution_count": 19,
   "metadata": {},
   "outputs": [
    {
     "data": {
      "image/png": "[encoded data removed]",
      "text/plain": [
       "<Figure size 432x288 with 1 Axes>"
      ]
     },
     "metadata": {},
     "output_type": "display_data"
    }
   ],
   "source": [
    "from scipy import linspace\n",
    "from scipy.stats import binom\n",
    "# Create a range of numbers from 0 to 30, with 31 elements (each number has one entry).\n",
    "outcome_counts = np.linspace(0,N,N+1)\n",
    "outcome_probs = binom.pmf(outcome_counts,30,.39)\n",
    "plt.bar(outcome_counts,outcome_probs)\n",
    "plt.title(\"Probability of days/month with > 5000 bikers\")\n",
    "plt.xlabel(\"Days\")\n",
    "plt.ylabel(\"Probability\")\n",
    "plt.show()"
   ]
  },
  {
   "cell_type": "markdown",
   "metadata": {},
   "source": [
    "The binomial distribution has two important properties regarding mean and standard deviation:\n",
    "- The mean of a binomial distribution is equal to *p* times *N*.\n",
    "- The standard deviation of a bionmial distribution is equal to the square root of *N* times *p* times *(1-p)*."
   ]
  },
  {
   "cell_type": "code",
   "execution_count": 20,
   "metadata": {},
   "outputs": [
    {
     "data": {
      "text/plain": [
       "11.737346101231191"
      ]
     },
     "execution_count": 20,
     "metadata": {},
     "output_type": "execute_result"
    }
   ],
   "source": [
    "# The binomial distribution has a mean equal to p times N...\n",
    "dist_mean = N*p\n",
    "dist_mean"
   ]
  },
  {
   "cell_type": "code",
   "execution_count": 21,
   "metadata": {},
   "outputs": [
    {
     "data": {
      "text/plain": [
       "2.6730450148151808"
      ]
     },
     "execution_count": 21,
     "metadata": {},
     "output_type": "execute_result"
    }
   ],
   "source": [
    "# ...and a standard deviation equal to the square root of N times p times (1-p)\n",
    "from math import sqrt\n",
    "dist_stdev = sqrt(N*p*(1-p))\n",
    "dist_stdev"
   ]
  },
  {
   "cell_type": "markdown",
   "metadata": {},
   "source": [
    "### Cumulative distribution \n",
    "A further way to examine probability is through cumulative distributions. These describe how likely it is for k or less outcomes to occur."
   ]
  },
  {
   "cell_type": "code",
   "execution_count": 22,
   "metadata": {},
   "outputs": [
    {
     "data": {
      "image/png": "[encoded data removed]",
      "text/plain": [
       "<Figure size 432x288 with 1 Axes>"
      ]
     },
     "metadata": {},
     "output_type": "display_data"
    }
   ],
   "source": [
    "outcome_counts = linspace(0,N,N+1)\n",
    "cumulative_outcomes = binom.cdf(outcome_counts,N,p) # The binom.cdf method can be used to calculate cumulative distributions\n",
    "plt.plot(outcome_counts,cumulative_outcomes)\n",
    "plt.title(\"Cumulative prob. of days/month with > 5000 bikers\")\n",
    "plt.xlabel(\"Days\")\n",
    "plt.ylabel(\"Probability\")\n",
    "plt.show()"
   ]
  },
  {
   "cell_type": "markdown",
   "metadata": {},
   "source": [
    "## Population differences and significance\n",
    "### One-tailed and two-tailed permutation tests"
   ]
  },
  {
   "cell_type": "markdown",
   "metadata": {},
   "source": [
    "Statistics can be used to determine whether differences between two groups are significant or are just likely to be due to chance. A dataset on weight loss will be used to illustrate this concept: between two test groups, one (control) used placebo pills and one (treatment) used the real weight loss pills. Are the pills effective?"
   ]
  },
  {
   "cell_type": "code",
   "execution_count": 23,
   "metadata": {},
   "outputs": [
    {
     "data": {
      "image/png": "[encoded data removed]",
      "text/plain": [
       "<Figure size 432x288 with 1 Axes>"
      ]
     },
     "metadata": {},
     "output_type": "display_data"
    }
   ],
   "source": [
    "# Read in the data\n",
    "data = pd.read_csv(\"datasets/weight_loss.csv\",header=None)\n",
    "# Assign the groups\n",
    "weight_lost_a = data.loc[:,0]\n",
    "weight_lost_b = data.loc[:,1]\n",
    "mean_group_a = np.mean(weight_lost_a)\n",
    "mean_group_b = np.mean(weight_lost_b)\n",
    "# Visualize the groups\n",
    "plt.hist(weight_lost_a,label=\"control\")\n",
    "plt.hist(weight_lost_b,label=\"treatment\")\n",
    "plt.legend(loc=\"upper right\")\n",
    "plt.title(\"Kilos lost per person\")\n",
    "plt.xlabel(\"Kilos lost\")\n",
    "plt.ylabel(\"Number of patients\")\n",
    "plt.show()"
   ]
  },
  {
   "cell_type": "markdown",
   "metadata": {},
   "source": [
    "To check whether the differences between two groups are significant, a significance tests must be carried out on a specific, chosen metric. The difference between the group means is a common choice."
   ]
  },
  {
   "cell_type": "code",
   "execution_count": 25,
   "metadata": {},
   "outputs": [
    {
     "data": {
      "text/plain": [
       "2.52"
      ]
     },
     "execution_count": 25,
     "metadata": {},
     "output_type": "execute_result"
    }
   ],
   "source": [
    "mean_difference = mean_group_b-mean_group_a\n",
    "mean_difference"
   ]
  },
  {
   "cell_type": "markdown",
   "metadata": {},
   "source": [
    "#### What can now be used is a *permutation test*. \n",
    "Significance testing asks whether the difference between two groups is genuine or rather the effect of random chance. To do so, a permutation test evaluates the null hypothesis that the difference between groups really is due to chance: if the test finds that the probability of such hypothesis is smaller than a certain threshold, the hypothesis is rejected and the difference is deemed to be genuine.\n",
    "\n",
    "To perform a permutation test, all values in the entire set (i.e. from both groups combined) are randomly assigned to two virtual groupings: a new difference between means is then calculated for each pair of virtual groupings. Ideally, the procedure is repeated until all possible group permutations are exhausted - in practice, this is seldom feasible. In most cases the procedure is just repeated for a very large number of times in what is called an approximate permutation test. \n",
    "\n",
    "In either case, the end result is a distribution of differences:"
   ]
  },
  {
   "cell_type": "code",
   "execution_count": 26,
   "metadata": {},
   "outputs": [
    {
     "data": {
      "image/png": "[encoded data removed]",
      "text/plain": [
       "<Figure size 432x288 with 1 Axes>"
      ]
     },
     "metadata": {},
     "output_type": "display_data"
    }
   ],
   "source": [
    "from numpy.random import rand\n",
    "all_values = data.loc[:,0].append(data.loc[:,1]) # Consolidate all datapoints\n",
    "mean_differences = [] # Preallocate the list of differences\n",
    "for i in range(1000): # Generate 1000 virtual groupings\n",
    "    group_a = []\n",
    "    group_b = []\n",
    "    for i in all_values:\n",
    "        if rand() >= .5: # Use a random number between 0 and 1 to decide where to put the datapoint\n",
    "            group_a.append(i)\n",
    "        else:\n",
    "            group_b.append(i)\n",
    "    iteration_mean_difference = np.mean(group_b)-np.mean(group_a) # The difference between the means of the virtual groupings\n",
    "    mean_differences.append(iteration_mean_difference) # Assign the difference to the list\n",
    "plt.hist(mean_differences)\n",
    "plt.title(\"Permutation test\")\n",
    "plt.xlabel(\"Difference between means\")\n",
    "plt.ylabel(\"Frequency\")\n",
    "plt.show()"
   ]
  },
  {
   "cell_type": "markdown",
   "metadata": {},
   "source": [
    "Finally the probability that a randomly generated difference was greater than the empirical difference is calculated. This is known as *p-value*. If the probability is lower than a confidence threshold (commonly set at 5%) the null hypothesis is rejected and the empirical difference deemed to be a real phenomenon."
   ]
  },
  {
   "cell_type": "code",
   "execution_count": 27,
   "metadata": {},
   "outputs": [
    {
     "data": {
      "text/plain": [
       "0.0"
      ]
     },
     "execution_count": 27,
     "metadata": {},
     "output_type": "execute_result"
    }
   ],
   "source": [
    "frequencies = 0\n",
    "for i in mean_differences:\n",
    "        if abs(i) >= mean_difference:\n",
    "            frequencies += 1\n",
    "p_value = frequencies/1000\n",
    "p_value"
   ]
  },
  {
   "cell_type": "markdown",
   "metadata": {},
   "source": [
    "In this case the p-value is zero so the difference is certainly significant.\n",
    "\n",
    "Note that what was carried out here is a *one-tailed test*. One-tailed tests are sign-dependent, i.e. they check the likelihood that random differences are either more positive or more negative than an empirical difference depending on the sign of the latter. If what is actually relevant is only the *magnitude* of the difference, then a *two-tailed test* is used. This type of test uses the absolute value of the differences instead."
   ]
  },
  {
   "cell_type": "markdown",
   "metadata": {},
   "source": [
    "### Chi-squared test\n",
    "Another type of significance test is the chi-squared test for categorical data. This test determines the statistical significance of observing a set of categorical values.\n",
    "\n",
    "Consider a set of 32561 data for which the observed values are 10771 Females, and 21790 Males. The expected values are instead 16280.5 Females and 16280.5 Males. The proportional difference between observed and expected are given by:"
   ]
  },
  {
   "cell_type": "code",
   "execution_count": 28,
   "metadata": {},
   "outputs": [
    {
     "data": {
      "text/plain": [
       "-0.33841098246368356"
      ]
     },
     "execution_count": 28,
     "metadata": {},
     "output_type": "execute_result"
    }
   ],
   "source": [
    "female_diff = (10771-16280.5)/16280.5\n",
    "female_diff"
   ]
  },
  {
   "cell_type": "code",
   "execution_count": 29,
   "metadata": {},
   "outputs": [
    {
     "data": {
      "text/plain": [
       "0.33841098246368356"
      ]
     },
     "execution_count": 29,
     "metadata": {},
     "output_type": "execute_result"
    }
   ],
   "source": [
    "male_diff = (21790-16280.5)/16280.5\n",
    "male_diff"
   ]
  },
  {
   "cell_type": "markdown",
   "metadata": {},
   "source": [
    "This is good, but the numbers will always compensate each other to zero. A non-zero parameter is needed instead. This parameter is the *chi-squared value*:"
   ]
  },
  {
   "cell_type": "code",
   "execution_count": 30,
   "metadata": {},
   "outputs": [
    {
     "data": {
      "text/plain": [
       "3728.950615767329"
      ]
     },
     "execution_count": 30,
     "metadata": {},
     "output_type": "execute_result"
    }
   ],
   "source": [
    "female_diff = (10771-16280.5)**2/16280.5\n",
    "male_diff = (21790-16280.5)**2/16280.5\n",
    "gender_chisq = female_diff+male_diff # The chi-squared value.\n",
    "gender_chisq"
   ]
  },
  {
   "cell_type": "markdown",
   "metadata": {},
   "source": [
    "The rest is much like the permutation test described earlier. Pairs of random groupings are created and a chi-squared value is calculated for each. Then the likelihood for any of these chi-squared values to be greater than a reference one is calculated and compared against a probability threshold."
   ]
  },
  {
   "cell_type": "code",
   "execution_count": 31,
   "metadata": {},
   "outputs": [
    {
     "data": {
      "image/png": "[encoded data removed]",
      "text/plain": [
       "<Figure size 432x288 with 1 Axes>"
      ]
     },
     "metadata": {},
     "output_type": "display_data"
    }
   ],
   "source": [
    "chi_squared_values = []\n",
    "for i in range(1000):\n",
    "    vect = rand(32561)\n",
    "    vect[vect >= .5] = 1\n",
    "    vect[vect < .5] = 0\n",
    "    female_count = sum(vect)\n",
    "    male_count = 32561-female_count\n",
    "    female_diff = (female_count-16280.5)**2/16280.5\n",
    "    male_diff = (male_count-16280.5)**2/16280.5\n",
    "    chi_squared_values.append(female_diff+male_diff)\n",
    "plt.hist(chi_squared_values)\n",
    "plt.title(\"Chi-squared test\")\n",
    "plt.xlabel(\"Chi-squared value of the groupings\")\n",
    "plt.ylabel(\"Frequency\")\n",
    "plt.show()"
   ]
  },
  {
   "cell_type": "markdown",
   "metadata": {},
   "source": [
    "We can quickly assess that the empirical value is much higher than anything that appears in the chi-squared distribution; the p-value will be zero and the difference is significant. An interesting property of chi-values is that they remain the same no matter the size of the sample, as long as the distribution of the data remain proportionally the same between the categories."
   ]
  },
  {
   "cell_type": "markdown",
   "metadata": {},
   "source": [
    "Furthermore, chi-squared tests can be performed for any number of categories."
   ]
  },
  {
   "cell_type": "code",
   "execution_count": 32,
   "metadata": {},
   "outputs": [
    {
     "data": {
      "text/plain": [
       "1.2848494674873035e-232"
      ]
     },
     "execution_count": 32,
     "metadata": {},
     "output_type": "execute_result"
    }
   ],
   "source": [
    "# The scipy.stats.chisquare method can be used to obtain results more easily.\n",
    "from scipy.stats import chisquare\n",
    "observed = [27816,3124,1039,311,271]\n",
    "expected = [26146.5,3939.9,944.3,260.5,1269.8]\n",
    "diffs = []\n",
    "race_pvalue = chisquare(observed,expected)[1]\n",
    "race_pvalue"
   ]
  },
  {
   "cell_type": "markdown",
   "metadata": {},
   "source": [
    "The difference between observed and expected values is definitely significant.\n",
    "\n",
    "Finally, the chi-squared test can be carried out over multiple dimensions (i.e. not just along single rows)."
   ]
  },
  {
   "cell_type": "code",
   "execution_count": 33,
   "metadata": {},
   "outputs": [
    {
     "name": "stdout",
     "output_type": "stream",
     "text": [
      "race      Amer-Indian-Eskimo   Asian-Pac-Islander   Black   Other   White\n",
      "sex                                                                      \n",
      " Female                  119                  346    1555     109    8642\n",
      " Male                    192                  693    1569     162   19174\n"
     ]
    }
   ],
   "source": [
    "# Generate a table with data on US income and demographics:\n",
    "income = pd.read_csv(\"datasets/income.csv\")\n",
    "table = pd.crosstab(income[\"sex\"],[income[\"race\"]])\n",
    "print(table)"
   ]
  },
  {
   "cell_type": "markdown",
   "metadata": {},
   "source": [
    "Most importantly, in a unidimensional chi-squared test expected values are found from other data sets and then compared with the set of observed values. In a multiple category chi-squared test, expected values are calculated across the whole observed values dataset by using per row and per column totals and by finally using the overall total to determine expected proportions. *In brief, a multidimensional chi-squared test offers a complete testing picture just by looking at the observed data.*"
   ]
  },
  {
   "cell_type": "code",
   "execution_count": 34,
   "metadata": {},
   "outputs": [
    {
     "data": {
      "text/plain": [
       "5.192061302760456e-97"
      ]
     },
     "execution_count": 34,
     "metadata": {},
     "output_type": "execute_result"
    }
   ],
   "source": [
    "# The scipy.stats.chi2_contingency method can be used to generate all the necessary stats, e.g.:\n",
    "# chisq_value, pvalue, df, expected = chi2_contingency(observed)\n",
    "from scipy.stats import chi2_contingency\n",
    "pvalue_gender_race = chi2_contingency(table)[1]\n",
    "pvalue_gender_race"
   ]
  },
  {
   "cell_type": "markdown",
   "metadata": {},
   "source": [
    "Once again, the difference between observed and expected values is definitely significant."
   ]
  },
  {
   "cell_type": "code",
   "execution_count": null,
   "metadata": {},
   "outputs": [],
   "source": []
  }
 ],
 "metadata": {
  "kernelspec": {
   "display_name": "Python 3",
   "language": "python",
   "name": "python3"
  },
  "language_info": {
   "codemirror_mode": {
    "name": "ipython",
    "version": 3
   },
   "file_extension": ".py",
   "mimetype": "text/x-python",
   "name": "python",
   "nbconvert_exporter": "python",
   "pygments_lexer": "ipython3",
   "version": "3.6.5"
  }
 },
 "nbformat": 4,
 "nbformat_minor": 2
}
